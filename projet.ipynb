{
 "cells": [
  {
   "attachments": {},
   "cell_type": "markdown",
   "metadata": {},
   "source": [
    "## Collecte de données"
   ]
  },
  {
   "attachments": {},
   "cell_type": "markdown",
   "metadata": {},
   "source": [
    "### Fonctions"
   ]
  },
  {
   "cell_type": "code",
   "execution_count": 12,
   "metadata": {},
   "outputs": [],
   "source": [
    "import urllib.request\n",
    "import pandas as pd\n",
    "from PIL import Image\n",
    "\n",
    "def getDataFrame(JSON):\n",
    "    columns   = [\"label\",\"format\",\"link\",\"path\"]\n",
    "    dataArray = []\n",
    "    for data in JSON[\"results\"][\"bindings\"]:\n",
    "        link = data[\"image\"][\"value\"]\n",
    "        label = data[\"itemLabel\"][\"value\"]\n",
    "        format = str(link).split(\".\")[-1]\n",
    "        path = \"./images/\" + label +\".\"+ format\n",
    "\n",
    "        dataArray.append([label,format,link,path])\n",
    "\n",
    "\n",
    "    return dataArray, columns\n",
    "\n",
    "def writeExifData(dataframe):\n",
    "\n",
    "    tags = [\"label\",\"imageWidth\",\"imageHeight\",\"model\"]\n",
    "    tagsWantedEXIF = [256,257,272]\n",
    "    dataEXIF = []\n",
    "    \n",
    "    length = len(dataframe.index)\n",
    "    for i in range(length):\n",
    "        path = dataframe._get_value(i,'path')\n",
    "        \n",
    "        image = Image.open(path)\n",
    "        exif = image.getexif()\n",
    "\n",
    "        \n",
    "\n",
    "        array = [dataframe._get_value(i,'label')]\n",
    "        for tag in tagsWantedEXIF:\n",
    "            array.append(exif.get(tag))\n",
    "        dataEXIF.append(array)\n",
    "    \n",
    "    dataframe = pd.DataFrame(dataEXIF, columns=tags)\n",
    "    with open(\"exif.json\", \"w\") as outfile:\n",
    "        outfile.write(dataframe.to_json())\n",
    "    \n",
    "    \n",
    "        \n",
    "\n",
    "\n",
    "def downloadImage(link, path):\n",
    "    urllib.request.urlretrieve(link, path)\n",
    "\n",
    "\n",
    "\n",
    "\n"
   ]
  },
  {
   "attachments": {},
   "cell_type": "markdown",
   "metadata": {},
   "source": [
    "### Collecte des images"
   ]
  },
  {
   "cell_type": "code",
   "execution_count": 13,
   "metadata": {},
   "outputs": [],
   "source": [
    "import urllib.request\n",
    "import os\n",
    "import json\n",
    "import pandas as pd\n",
    "import glob\n",
    "\n",
    "# \n",
    "QUERY_LIMIT = 5\n",
    "QUERY_JSON_PATH = \"query.json\"\n",
    "\n",
    "# Récupération de la Query\n",
    "url = \"https://query.wikidata.org/sparql?query=SELECT%20%3Fitem%20%3FitemLabel%20%3Fimage%0AWHERE%0A%7B%0A%3Fitem%20wdt%3AP31%20wd%3AQ144%20.%0A%3Fitem%20wdt%3AP18%20%3Fimage%0ASERVICE%20wikibase%3Alabel%20%7B%20bd%3AserviceParam%20wikibase%3Alanguage%20%22%5BAUTO_LANGUAGE%5D%2Cen%22%20%7D%0A%7D%0ALIMIT%20\"+str(QUERY_LIMIT)+\"&format=json\"\n",
    "response = urllib.request.urlopen(url)\n",
    "responseJSON  = json.load(response)\n",
    "\n",
    "# Création de la dataframe\n",
    "array, columns = getDataFrame(responseJSON)\n",
    "dataframe = pd.DataFrame(array, columns= columns)\n",
    "\n",
    "# Création du fichier JSON \n",
    "with open(QUERY_JSON_PATH, \"w\") as outfile:\n",
    "    outfile.write(dataframe.to_json())\n",
    "\n",
    "# Vidage du dossier images\n",
    "files = glob.glob('./images/*')\n",
    "for f in files:\n",
    "    os.remove(f)\n",
    "        \n",
    "# Telechargement des images\n",
    "length = len(dataframe.index)\n",
    "for i in range(length):\n",
    "    link = dataframe._get_value(i,'link')\n",
    "    path = dataframe._get_value(i,'path')\n",
    "    downloadImage(link,path)\n"
   ]
  },
  {
   "attachments": {},
   "cell_type": "markdown",
   "metadata": {},
   "source": [
    "### Récupération des Métadonnées EXIF"
   ]
  },
  {
   "cell_type": "code",
   "execution_count": 14,
   "metadata": {},
   "outputs": [
    {
     "data": {
      "text/html": [
       "<div>\n",
       "<style scoped>\n",
       "    .dataframe tbody tr th:only-of-type {\n",
       "        vertical-align: middle;\n",
       "    }\n",
       "\n",
       "    .dataframe tbody tr th {\n",
       "        vertical-align: top;\n",
       "    }\n",
       "\n",
       "    .dataframe thead th {\n",
       "        text-align: right;\n",
       "    }\n",
       "</style>\n",
       "<table border=\"1\" class=\"dataframe\">\n",
       "  <thead>\n",
       "    <tr style=\"text-align: right;\">\n",
       "      <th></th>\n",
       "      <th>label</th>\n",
       "      <th>imageWidth</th>\n",
       "      <th>imageHeight</th>\n",
       "      <th>model</th>\n",
       "    </tr>\n",
       "  </thead>\n",
       "  <tbody>\n",
       "    <tr>\n",
       "      <th>0</th>\n",
       "      <td>Sutter Brown</td>\n",
       "      <td>NaN</td>\n",
       "      <td>NaN</td>\n",
       "      <td>Canon PowerShot G12</td>\n",
       "    </tr>\n",
       "    <tr>\n",
       "      <th>1</th>\n",
       "      <td>Sykes</td>\n",
       "      <td>NaN</td>\n",
       "      <td>NaN</td>\n",
       "      <td>DSC-H50</td>\n",
       "    </tr>\n",
       "    <tr>\n",
       "      <th>2</th>\n",
       "      <td>Terry</td>\n",
       "      <td>NaN</td>\n",
       "      <td>NaN</td>\n",
       "      <td>None</td>\n",
       "    </tr>\n",
       "    <tr>\n",
       "      <th>3</th>\n",
       "      <td>Tillman</td>\n",
       "      <td>NaN</td>\n",
       "      <td>NaN</td>\n",
       "      <td>None</td>\n",
       "    </tr>\n",
       "    <tr>\n",
       "      <th>4</th>\n",
       "      <td>Titan</td>\n",
       "      <td>NaN</td>\n",
       "      <td>NaN</td>\n",
       "      <td>None</td>\n",
       "    </tr>\n",
       "  </tbody>\n",
       "</table>\n",
       "</div>"
      ],
      "text/plain": [
       "          label  imageWidth  imageHeight                model\n",
       "0  Sutter Brown         NaN          NaN  Canon PowerShot G12\n",
       "1         Sykes         NaN          NaN              DSC-H50\n",
       "2         Terry         NaN          NaN                 None\n",
       "3       Tillman         NaN          NaN                 None\n",
       "4         Titan         NaN          NaN                 None"
      ]
     },
     "execution_count": 14,
     "metadata": {},
     "output_type": "execute_result"
    }
   ],
   "source": [
    "writeExifData(pd.read_json(QUERY_JSON_PATH))\n",
    "\n",
    "exifDataframe = pd.read_json(\"exif.json\")\n",
    "exifDataframe"
   ]
  },
  {
   "attachments": {},
   "cell_type": "markdown",
   "metadata": {},
   "source": [
    "## Étiquetage et annotation"
   ]
  },
  {
   "attachments": {},
   "cell_type": "markdown",
   "metadata": {},
   "source": [
    "### Détermination Kmeans des couleurs dominantes"
   ]
  },
  {
   "cell_type": "code",
   "execution_count": 15,
   "metadata": {},
   "outputs": [
    {
     "data": {
      "text/html": [
       "<div>\n",
       "<style scoped>\n",
       "    .dataframe tbody tr th:only-of-type {\n",
       "        vertical-align: middle;\n",
       "    }\n",
       "\n",
       "    .dataframe tbody tr th {\n",
       "        vertical-align: top;\n",
       "    }\n",
       "\n",
       "    .dataframe thead th {\n",
       "        text-align: right;\n",
       "    }\n",
       "</style>\n",
       "<table border=\"1\" class=\"dataframe\">\n",
       "  <thead>\n",
       "    <tr style=\"text-align: right;\">\n",
       "      <th></th>\n",
       "      <th>0</th>\n",
       "      <th>1</th>\n",
       "      <th>2</th>\n",
       "    </tr>\n",
       "  </thead>\n",
       "  <tbody>\n",
       "    <tr>\n",
       "      <th>0</th>\n",
       "      <td>[166.0, 127.0, 106.0]</td>\n",
       "      <td>[218.0, 212.0, 204.0]</td>\n",
       "      <td>[86.0, 67.0, 66.0]</td>\n",
       "    </tr>\n",
       "    <tr>\n",
       "      <th>1</th>\n",
       "      <td>[109.0, 161.0, 94.0]</td>\n",
       "      <td>[23.0, 40.0, 25.0]</td>\n",
       "      <td>[178.0, 198.0, 192.0]</td>\n",
       "    </tr>\n",
       "    <tr>\n",
       "      <th>2</th>\n",
       "      <td>[22.0, 23.0, 22.0]</td>\n",
       "      <td>[190.0, 190.0, 189.0]</td>\n",
       "      <td>[97.0, 97.0, 97.0]</td>\n",
       "    </tr>\n",
       "    <tr>\n",
       "      <th>3</th>\n",
       "      <td>[137.0, 98.0, 87.0]</td>\n",
       "      <td>[195.0, 195.0, 185.0]</td>\n",
       "      <td>[95.0, 53.0, 45.0]</td>\n",
       "    </tr>\n",
       "    <tr>\n",
       "      <th>4</th>\n",
       "      <td>[89.0, 76.0, 70.0]</td>\n",
       "      <td>[145.0, 141.0, 134.0]</td>\n",
       "      <td>[177.0, 178.0, 183.0]</td>\n",
       "    </tr>\n",
       "  </tbody>\n",
       "</table>\n",
       "</div>"
      ],
      "text/plain": [
       "                       0                      1                      2\n",
       "0  [166.0, 127.0, 106.0]  [218.0, 212.0, 204.0]     [86.0, 67.0, 66.0]\n",
       "1   [109.0, 161.0, 94.0]     [23.0, 40.0, 25.0]  [178.0, 198.0, 192.0]\n",
       "2     [22.0, 23.0, 22.0]  [190.0, 190.0, 189.0]     [97.0, 97.0, 97.0]\n",
       "3    [137.0, 98.0, 87.0]  [195.0, 195.0, 185.0]     [95.0, 53.0, 45.0]\n",
       "4     [89.0, 76.0, 70.0]  [145.0, 141.0, 134.0]  [177.0, 178.0, 183.0]"
      ]
     },
     "execution_count": 15,
     "metadata": {},
     "output_type": "execute_result"
    }
   ],
   "source": [
    "import matplotlib.pyplot as plt\n",
    "from sklearn.cluster import KMeans\n",
    "from PIL import Image\n",
    "import numpy as np\n",
    "\n",
    "N = 3\n",
    "\n",
    "imagesDataframe = pd.read_json(QUERY_JSON_PATH)\n",
    "meansArray = []\n",
    "\n",
    "for path in imagesDataframe.path:\n",
    "\n",
    "    img = Image.open(path).convert(\"RGB\")\n",
    "    imgArray = np.array(img.getdata())\n",
    "    imgDataframe = pd.DataFrame(imgArray, columns=[\"red\",\"green\",\"blue\"])\n",
    "\n",
    "    model=KMeans(n_clusters= N, n_init='auto')\n",
    "    model.fit(imgDataframe)\n",
    "\n",
    "    meansList = (np.floor(model.cluster_centers_)).tolist()\n",
    "    meansArray.append(meansList)\n",
    "\n",
    "\n",
    "\n",
    "meansDataframe = pd.DataFrame(meansArray,columns = [i for i in range(N)])\n",
    "\n",
    "# Création du fichier JSON \n",
    "with open(\"color.json\", \"w\") as outfile:\n",
    "    outfile.write(meansDataframe.to_json())\n",
    "\n",
    "meansDataframe\n",
    "\n"
   ]
  },
  {
   "attachments": {},
   "cell_type": "markdown",
   "metadata": {},
   "source": [
    "### Option : affichage du Kmeans"
   ]
  },
  {
   "cell_type": "code",
   "execution_count": 39,
   "metadata": {},
   "outputs": [
    {
     "name": "stdout",
     "output_type": "stream",
     "text": [
      "[[0.54221915 0.54302411 0.54011206]\n",
      " [0.03291969 0.03396193 0.03004808]\n",
      " [0.85258903 0.85330598 0.85017659]\n",
      " [0.25572336 0.25633453 0.25379673]\n",
      " [0.64073466 0.64127959 0.63866605]\n",
      " [0.34528238 0.34579741 0.34295648]\n",
      " [0.17488979 0.17564085 0.17264091]\n",
      " [0.74824254 0.74865251 0.7456288 ]\n",
      " [0.09767215 0.09850361 0.09564077]\n",
      " [0.43876476 0.4393171  0.43655232]]\n"
     ]
    },
    {
     "data": {
      "image/png": "[encoded data removed]",
      "text/plain": [
       "<Figure size 640x480 with 1 Axes>"
      ]
     },
     "metadata": {},
     "output_type": "display_data"
    }
   ],
   "source": [
    "import matplotlib.pyplot as plt\n",
    "from sklearn.cluster import KMeans\n",
    "import numpy as np\n",
    "\n",
    "path = \"./images/Terry.jpg\"\n",
    "N = 10\n",
    "\n",
    "img = Image.open(path).convert(\"RGB\")\n",
    "imgArray = np.array(img.getdata())\n",
    "imgDataframe = pd.DataFrame(imgArray, columns=[\"red\",\"green\",\"blue\"])\n",
    "\n",
    "model=KMeans(n_clusters= N, n_init='auto')\n",
    "model.fit(imgDataframe)\n",
    "\n",
    "x = imgArray.red\n",
    "y = imgArray.green\n",
    "z = imgArray.blue\n",
    "c = model.cluster_center_[model.labels_]\n",
    "\n",
    "\n",
    "fig = plt.figure()\n",
    "ax = fig.add_subplot(projection='3d')\n",
    "\n",
    "ax.scatter(x,y,z,c = )\n",
    "print(model.cluster_centers_/255)\n"
   ]
  }
 ],
 "metadata": {
  "kernelspec": {
   "display_name": "Python 3",
   "language": "python",
   "name": "python3"
  },
  "language_info": {
   "codemirror_mode": {
    "name": "ipython",
    "version": 3
   },
   "file_extension": ".py",
   "mimetype": "text/x-python",
   "name": "python",
   "nbconvert_exporter": "python",
   "pygments_lexer": "ipython3",
   "version": "3.9.5"
  },
  "orig_nbformat": 4,
  "vscode": {
   "interpreter": {
    "hash": "bed5a9713edd642715f48f9bc24b64ba9674f7867aa716259ffe8e9e225de697"
   }
  }
 },
 "nbformat": 4,
 "nbformat_minor": 2
}
