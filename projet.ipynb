{
 "cells": [
  {
   "attachments": {},
   "cell_type": "markdown",
   "metadata": {},
   "source": [
    "### *Variables Générales et Imports (à toujours lancé à chaque ouverture)*"
   ]
  },
  {
   "cell_type": "code",
   "execution_count": 9,
   "metadata": {},
   "outputs": [],
   "source": [
    "import urllib.request\n",
    "import os\n",
    "import json\n",
    "import pandas as pd\n",
    "import glob\n",
    "import matplotlib.pyplot as plt\n",
    "import numpy as np\n",
    "from sklearn.cluster import KMeans\n",
    "from PIL import Image\n",
    "\n",
    "\n",
    "QUERY_LIMIT = 5\n",
    "DATA_JSON_PATH = \"data.json\""
   ]
  },
  {
   "attachments": {},
   "cell_type": "markdown",
   "metadata": {},
   "source": [
    "## Collecte de données"
   ]
  },
  {
   "attachments": {},
   "cell_type": "markdown",
   "metadata": {},
   "source": [
    "### Fonctions"
   ]
  },
  {
   "cell_type": "code",
   "execution_count": 3,
   "metadata": {},
   "outputs": [],
   "source": [
    "def getDataFrame(JSON):\n",
    "    columns   = [\"label\",\"format\",\"link\",\"path\"]\n",
    "    dataArray = []\n",
    "    for data in JSON[\"results\"][\"bindings\"]:\n",
    "        link = data[\"image\"][\"value\"]\n",
    "        label = data[\"itemLabel\"][\"value\"]\n",
    "        format = str(link).split(\".\")[-1]\n",
    "        path = \"./images/\" + label +\".\"+ format\n",
    "\n",
    "        dataArray.append([label,format,link,path])\n",
    "\n",
    "\n",
    "    return pd.DataFrame(dataArray, columns= columns)"
   ]
  },
  {
   "attachments": {},
   "cell_type": "markdown",
   "metadata": {},
   "source": [
    "### Collecte des images"
   ]
  },
  {
   "cell_type": "code",
   "execution_count": 4,
   "metadata": {},
   "outputs": [
    {
     "data": {
      "text/html": [
       "<div>\n",
       "<style scoped>\n",
       "    .dataframe tbody tr th:only-of-type {\n",
       "        vertical-align: middle;\n",
       "    }\n",
       "\n",
       "    .dataframe tbody tr th {\n",
       "        vertical-align: top;\n",
       "    }\n",
       "\n",
       "    .dataframe thead th {\n",
       "        text-align: right;\n",
       "    }\n",
       "</style>\n",
       "<table border=\"1\" class=\"dataframe\">\n",
       "  <thead>\n",
       "    <tr style=\"text-align: right;\">\n",
       "      <th></th>\n",
       "      <th>label</th>\n",
       "      <th>format</th>\n",
       "      <th>link</th>\n",
       "      <th>path</th>\n",
       "      <th>résolution</th>\n",
       "    </tr>\n",
       "  </thead>\n",
       "  <tbody>\n",
       "    <tr>\n",
       "      <th>0</th>\n",
       "      <td>Sutter Brown</td>\n",
       "      <td>jpg</td>\n",
       "      <td>http://commons.wikimedia.org/wiki/Special:File...</td>\n",
       "      <td>./images/Sutter Brown.jpg</td>\n",
       "      <td>[2736, 3648]</td>\n",
       "    </tr>\n",
       "    <tr>\n",
       "      <th>1</th>\n",
       "      <td>Sykes</td>\n",
       "      <td>JPG</td>\n",
       "      <td>http://commons.wikimedia.org/wiki/Special:File...</td>\n",
       "      <td>./images/Sykes.JPG</td>\n",
       "      <td>[2592, 1944]</td>\n",
       "    </tr>\n",
       "    <tr>\n",
       "      <th>2</th>\n",
       "      <td>Terry</td>\n",
       "      <td>jpg</td>\n",
       "      <td>http://commons.wikimedia.org/wiki/Special:File...</td>\n",
       "      <td>./images/Terry.jpg</td>\n",
       "      <td>[966, 773]</td>\n",
       "    </tr>\n",
       "    <tr>\n",
       "      <th>3</th>\n",
       "      <td>Tillman</td>\n",
       "      <td>jpg</td>\n",
       "      <td>http://commons.wikimedia.org/wiki/Special:File...</td>\n",
       "      <td>./images/Tillman.jpg</td>\n",
       "      <td>[1529, 2048]</td>\n",
       "    </tr>\n",
       "    <tr>\n",
       "      <th>4</th>\n",
       "      <td>Titan</td>\n",
       "      <td>jpg</td>\n",
       "      <td>http://commons.wikimedia.org/wiki/Special:File...</td>\n",
       "      <td>./images/Titan.jpg</td>\n",
       "      <td>[320, 250]</td>\n",
       "    </tr>\n",
       "  </tbody>\n",
       "</table>\n",
       "</div>"
      ],
      "text/plain": [
       "          label format                                               link  \\\n",
       "0  Sutter Brown    jpg  http://commons.wikimedia.org/wiki/Special:File...   \n",
       "1         Sykes    JPG  http://commons.wikimedia.org/wiki/Special:File...   \n",
       "2         Terry    jpg  http://commons.wikimedia.org/wiki/Special:File...   \n",
       "3       Tillman    jpg  http://commons.wikimedia.org/wiki/Special:File...   \n",
       "4         Titan    jpg  http://commons.wikimedia.org/wiki/Special:File...   \n",
       "\n",
       "                        path    résolution  \n",
       "0  ./images/Sutter Brown.jpg  [2736, 3648]  \n",
       "1         ./images/Sykes.JPG  [2592, 1944]  \n",
       "2         ./images/Terry.jpg    [966, 773]  \n",
       "3       ./images/Tillman.jpg  [1529, 2048]  \n",
       "4         ./images/Titan.jpg    [320, 250]  "
      ]
     },
     "execution_count": 4,
     "metadata": {},
     "output_type": "execute_result"
    }
   ],
   "source": [
    "# Récupération de la Query\n",
    "url = \"https://query.wikidata.org/sparql?query=SELECT%20%3Fitem%20%3FitemLabel%20%3Fimage%0AWHERE%0A%7B%0A%3Fitem%20wdt%3AP31%20wd%3AQ144%20.%0A%3Fitem%20wdt%3AP18%20%3Fimage%0ASERVICE%20wikibase%3Alabel%20%7B%20bd%3AserviceParam%20wikibase%3Alanguage%20%22%5BAUTO_LANGUAGE%5D%2Cen%22%20%7D%0A%7D%0ALIMIT%20\"+str(QUERY_LIMIT)+\"&format=json\"\n",
    "response = urllib.request.urlopen(url)\n",
    "responseJSON  = json.load(response)\n",
    "\n",
    "# Création de la dataframe\n",
    "dataframe = getDataFrame(responseJSON)\n",
    "\n",
    "\n",
    "\n",
    "# Vidage du dossier images\n",
    "files = glob.glob('./images/*')\n",
    "for f in files:\n",
    "    os.remove(f)\n",
    "\n",
    "sizes = []\n",
    "# Telechargement des images\n",
    "length = len(dataframe.index)\n",
    "for i in range(length):\n",
    "    link = dataframe._get_value(i,'link')\n",
    "    path = dataframe._get_value(i,'path')\n",
    "    urllib.request.urlretrieve(link, path)\n",
    "\n",
    "    img = Image.open(path)\n",
    "    sizes.append(np.array(img.size))\n",
    "    img.close()\n",
    "\n",
    "dataframe[\"résolution\"] = sizes\n",
    "\n",
    "# Création du fichier JSON \n",
    "file = open(DATA_JSON_PATH, \"w\") \n",
    "file.write(dataframe.to_json())\n",
    "file.close()\n",
    "\n",
    "dataframe"
   ]
  },
  {
   "attachments": {},
   "cell_type": "markdown",
   "metadata": {},
   "source": [
    "### Récupération des Métadonnées EXIF"
   ]
  },
  {
   "cell_type": "code",
   "execution_count": 5,
   "metadata": {},
   "outputs": [
    {
     "data": {
      "text/html": [
       "<div>\n",
       "<style scoped>\n",
       "    .dataframe tbody tr th:only-of-type {\n",
       "        vertical-align: middle;\n",
       "    }\n",
       "\n",
       "    .dataframe tbody tr th {\n",
       "        vertical-align: top;\n",
       "    }\n",
       "\n",
       "    .dataframe thead th {\n",
       "        text-align: right;\n",
       "    }\n",
       "</style>\n",
       "<table border=\"1\" class=\"dataframe\">\n",
       "  <thead>\n",
       "    <tr style=\"text-align: right;\">\n",
       "      <th></th>\n",
       "      <th>label</th>\n",
       "      <th>model</th>\n",
       "    </tr>\n",
       "  </thead>\n",
       "  <tbody>\n",
       "    <tr>\n",
       "      <th>0</th>\n",
       "      <td>Sutter Brown</td>\n",
       "      <td>Canon PowerShot G12</td>\n",
       "    </tr>\n",
       "    <tr>\n",
       "      <th>1</th>\n",
       "      <td>Sykes</td>\n",
       "      <td>DSC-H50</td>\n",
       "    </tr>\n",
       "    <tr>\n",
       "      <th>2</th>\n",
       "      <td>Terry</td>\n",
       "      <td>None</td>\n",
       "    </tr>\n",
       "    <tr>\n",
       "      <th>3</th>\n",
       "      <td>Tillman</td>\n",
       "      <td>None</td>\n",
       "    </tr>\n",
       "    <tr>\n",
       "      <th>4</th>\n",
       "      <td>Titan</td>\n",
       "      <td>None</td>\n",
       "    </tr>\n",
       "  </tbody>\n",
       "</table>\n",
       "</div>"
      ],
      "text/plain": [
       "          label                model\n",
       "0  Sutter Brown  Canon PowerShot G12\n",
       "1         Sykes              DSC-H50\n",
       "2         Terry                 None\n",
       "3       Tillman                 None\n",
       "4         Titan                 None"
      ]
     },
     "execution_count": 5,
     "metadata": {},
     "output_type": "execute_result"
    }
   ],
   "source": [
    "dataframe = pd.read_json(DATA_JSON_PATH)\n",
    "\n",
    "tags = [\"label\",\"model\"]\n",
    "tagsWantedEXIF = [272]\n",
    "dataEXIF = []\n",
    "    \n",
    "length = len(dataframe.index)\n",
    "for i in range(length):\n",
    "    path = dataframe._get_value(i,'path')\n",
    "        \n",
    "    image = Image.open(path)\n",
    "    exif = image.getexif()\n",
    "\n",
    "        \n",
    "\n",
    "    array = [dataframe._get_value(i,'label')]\n",
    "    for tag in tagsWantedEXIF:\n",
    "        array.append(exif.get(tag))\n",
    "    dataEXIF.append(array)\n",
    "    \n",
    "dataframeEXIF = pd.DataFrame(dataEXIF, columns=tags)\n",
    "for c in dataframeEXIF.columns :\n",
    "    dataframe[c] = dataframeEXIF[c]\n",
    "        \n",
    "file = open(DATA_JSON_PATH, \"w\")\n",
    "file.write(dataframe.to_json())\n",
    "file.close()\n",
    "\n",
    "dataframeEXIF"
   ]
  },
  {
   "attachments": {},
   "cell_type": "markdown",
   "metadata": {},
   "source": [
    "## Étiquetage et annotation"
   ]
  },
  {
   "attachments": {},
   "cell_type": "markdown",
   "metadata": {},
   "source": [
    "### Couleurs prédominantes"
   ]
  },
  {
   "cell_type": "code",
   "execution_count": 6,
   "metadata": {},
   "outputs": [
    {
     "data": {
      "text/html": [
       "<div>\n",
       "<style scoped>\n",
       "    .dataframe tbody tr th:only-of-type {\n",
       "        vertical-align: middle;\n",
       "    }\n",
       "\n",
       "    .dataframe tbody tr th {\n",
       "        vertical-align: top;\n",
       "    }\n",
       "\n",
       "    .dataframe thead th {\n",
       "        text-align: right;\n",
       "    }\n",
       "</style>\n",
       "<table border=\"1\" class=\"dataframe\">\n",
       "  <thead>\n",
       "    <tr style=\"text-align: right;\">\n",
       "      <th></th>\n",
       "      <th>color1</th>\n",
       "      <th>color2</th>\n",
       "      <th>color3</th>\n",
       "    </tr>\n",
       "  </thead>\n",
       "  <tbody>\n",
       "    <tr>\n",
       "      <th>0</th>\n",
       "      <td>[86.0, 67.0, 66.0]</td>\n",
       "      <td>[218.0, 212.0, 204.0]</td>\n",
       "      <td>[166.0, 127.0, 106.0]</td>\n",
       "    </tr>\n",
       "    <tr>\n",
       "      <th>1</th>\n",
       "      <td>[177.0, 198.0, 191.0]</td>\n",
       "      <td>[23.0, 40.0, 25.0]</td>\n",
       "      <td>[109.0, 161.0, 94.0]</td>\n",
       "    </tr>\n",
       "    <tr>\n",
       "      <th>2</th>\n",
       "      <td>[98.0, 98.0, 98.0]</td>\n",
       "      <td>[191.0, 191.0, 190.0]</td>\n",
       "      <td>[23.0, 23.0, 22.0]</td>\n",
       "    </tr>\n",
       "    <tr>\n",
       "      <th>3</th>\n",
       "      <td>[137.0, 99.0, 88.0]</td>\n",
       "      <td>[96.0, 53.0, 45.0]</td>\n",
       "      <td>[196.0, 196.0, 186.0]</td>\n",
       "    </tr>\n",
       "    <tr>\n",
       "      <th>4</th>\n",
       "      <td>[177.0, 177.0, 183.0]</td>\n",
       "      <td>[89.0, 76.0, 70.0]</td>\n",
       "      <td>[145.0, 140.0, 134.0]</td>\n",
       "    </tr>\n",
       "  </tbody>\n",
       "</table>\n",
       "</div>"
      ],
      "text/plain": [
       "                  color1                 color2                 color3\n",
       "0     [86.0, 67.0, 66.0]  [218.0, 212.0, 204.0]  [166.0, 127.0, 106.0]\n",
       "1  [177.0, 198.0, 191.0]     [23.0, 40.0, 25.0]   [109.0, 161.0, 94.0]\n",
       "2     [98.0, 98.0, 98.0]  [191.0, 191.0, 190.0]     [23.0, 23.0, 22.0]\n",
       "3    [137.0, 99.0, 88.0]     [96.0, 53.0, 45.0]  [196.0, 196.0, 186.0]\n",
       "4  [177.0, 177.0, 183.0]     [89.0, 76.0, 70.0]  [145.0, 140.0, 134.0]"
      ]
     },
     "execution_count": 6,
     "metadata": {},
     "output_type": "execute_result"
    }
   ],
   "source": [
    "N = 3\n",
    "resolution = 10\n",
    "\n",
    "dataframe = pd.read_json(DATA_JSON_PATH)\n",
    "meansArray = []\n",
    "\n",
    "for path in dataframe.path:\n",
    "\n",
    "    img = Image.open(path).convert(\"RGB\")\n",
    "    imgArray = np.array(img.getdata())[::10]\n",
    "    img.close()\n",
    "    imgDataframe = pd.DataFrame(imgArray, columns=[\"red\",\"green\",\"blue\"])\n",
    "\n",
    "    model=KMeans(n_clusters= N, n_init='auto')\n",
    "    model.fit(imgDataframe)\n",
    "\n",
    "    meansList = (np.floor(model.cluster_centers_)).tolist()\n",
    "    meansArray.append(meansList)\n",
    "\n",
    "\n",
    "columns = [ \"color\"+str(i+1) for i in range(N)]\n",
    "meansDataframe = pd.DataFrame(meansArray,columns= columns)\n",
    "for c in columns:\n",
    "    dataframe[c] = meansDataframe[c]\n",
    "\n",
    "# Création du fichier JSON \n",
    "colorTable = open(DATA_JSON_PATH, \"w\")\n",
    "colorTable.write(dataframe.to_json())\n",
    "colorTable.close()\n",
    "\n",
    "meansDataframe\n",
    "\n"
   ]
  },
  {
   "attachments": {},
   "cell_type": "markdown",
   "metadata": {},
   "source": [
    "> ### Option : affichage des couleurs prédominantes"
   ]
  },
  {
   "cell_type": "code",
   "execution_count": 72,
   "metadata": {},
   "outputs": [
    {
     "name": "stdout",
     "output_type": "stream",
     "text": [
      "[[0.74117647 0.70588235 0.65490196]\n",
      " [0.59215686 0.5372549  0.47058824]\n",
      " [0.27843137 0.25098039 0.2       ]]\n"
     ]
    },
    {
     "data": {
      "text/plain": [
       "<mpl_toolkits.mplot3d.art3d.Path3DCollection at 0x23e805df5b0>"
      ]
     },
     "execution_count": 72,
     "metadata": {},
     "output_type": "execute_result"
    },
    {
     "data": {
      "image/png": "[encoded data removed]",
      "text/plain": [
       "<Figure size 640x480 with 1 Axes>"
      ]
     },
     "metadata": {},
     "output_type": "display_data"
    }
   ],
   "source": [
    "path = \"./images/Mancs.jpg\"\n",
    "\n",
    "dataframe = pd.read_json(DATA_JSON_PATH)\n",
    "\n",
    "inded = 0 \n",
    "for i, line in enumerate(dataframe[\"path\"]):\n",
    "    if line == path:\n",
    "        index = i\n",
    "\n",
    "colors = np.array([dataframe[\"color\"+str(i+1)][index] for i in range(N)])\n",
    "\n",
    "x = [c[0]/255  for c in colors]\n",
    "y = [c[1]/255  for c in colors]\n",
    "z = [c[2]/255  for c in colors]\n",
    "c = colors/255\n",
    "\n",
    "fig = plt.figure()\n",
    "ax = fig.add_subplot(projection='3d')\n",
    "ax.scatter(x,y,z,c = c)"
   ]
  },
  {
   "attachments": {},
   "cell_type": "markdown",
   "metadata": {},
   "source": [
    "### Orientation et Taille"
   ]
  },
  {
   "cell_type": "code",
   "execution_count": 8,
   "metadata": {},
   "outputs": [],
   "source": [
    "dataframe = pd.read_json(DATA_JSON_PATH)\n",
    "\n",
    "orientations = []\n",
    "tailles = []\n",
    "for taille in dataframe[\"résolution\"]:\n",
    "    # Orientation\n",
    "    if taille[0] > taille[1]:\n",
    "        orientations.append(\"paysage\")\n",
    "    else:\n",
    "        orientations.append(\"portrait\")\n",
    "    \n",
    "    nbrPixel = taille[0] * taille[1]\n",
    " \n",
    "    if   nbrPixel >= 1920*1080:\n",
    "        tailles.append(\"Grande\")\n",
    "    elif nbrPixel >= 1280*720:\n",
    "        tailles.append(\"Moyenne\")\n",
    "    elif nbrPixel >= 720*480:\n",
    "        tailles.append(\"Petite\")\n",
    "    else :\n",
    "        tailles.append(\"Vignette\")\n",
    "    \n",
    "\n",
    "dataframe[\"orientation\"] = orientations\n",
    "dataframe[\"taille\"] = tailles\n",
    "\n",
    "# Création du fichier JSON \n",
    "colorTable = open(DATA_JSON_PATH, \"w\")\n",
    "colorTable.write(dataframe.to_json())\n",
    "colorTable.close()\n"
   ]
  },
  {
   "attachments": {},
   "cell_type": "markdown",
   "metadata": {},
   "source": [
    "### Autres"
   ]
  },
  {
   "cell_type": "code",
   "execution_count": null,
   "metadata": {},
   "outputs": [],
   "source": [
    "dataframe = pd.read_json(DATA_JSON_PATH)\n",
    "\n",
    "dataframe[\"tags\"] = [[] for i in range(len(dataframe[\"label\"]))]"
   ]
  },
  {
   "attachments": {},
   "cell_type": "markdown",
   "metadata": {},
   "source": [
    "## Analyse des données"
   ]
  },
  {
   "cell_type": "code",
   "execution_count": 10,
   "metadata": {},
   "outputs": [
    {
     "data": {
      "text/html": [
       "<div>\n",
       "<style scoped>\n",
       "    .dataframe tbody tr th:only-of-type {\n",
       "        vertical-align: middle;\n",
       "    }\n",
       "\n",
       "    .dataframe tbody tr th {\n",
       "        vertical-align: top;\n",
       "    }\n",
       "\n",
       "    .dataframe thead th {\n",
       "        text-align: right;\n",
       "    }\n",
       "</style>\n",
       "<table border=\"1\" class=\"dataframe\">\n",
       "  <thead>\n",
       "    <tr style=\"text-align: right;\">\n",
       "      <th></th>\n",
       "      <th>label</th>\n",
       "      <th>format</th>\n",
       "      <th>link</th>\n",
       "      <th>path</th>\n",
       "      <th>résolution</th>\n",
       "      <th>model</th>\n",
       "      <th>color1</th>\n",
       "      <th>color2</th>\n",
       "      <th>color3</th>\n",
       "      <th>orientation</th>\n",
       "      <th>taille</th>\n",
       "    </tr>\n",
       "  </thead>\n",
       "  <tbody>\n",
       "    <tr>\n",
       "      <th>0</th>\n",
       "      <td>Sutter Brown</td>\n",
       "      <td>jpg</td>\n",
       "      <td>http://commons.wikimedia.org/wiki/Special:File...</td>\n",
       "      <td>./images/Sutter Brown.jpg</td>\n",
       "      <td>[2736, 3648]</td>\n",
       "      <td>Canon PowerShot G12</td>\n",
       "      <td>[86.0, 67.0, 66.0]</td>\n",
       "      <td>[218.0, 212.0, 204.0]</td>\n",
       "      <td>[166.0, 127.0, 106.0]</td>\n",
       "      <td>portrait</td>\n",
       "      <td>Grande</td>\n",
       "    </tr>\n",
       "    <tr>\n",
       "      <th>1</th>\n",
       "      <td>Sykes</td>\n",
       "      <td>JPG</td>\n",
       "      <td>http://commons.wikimedia.org/wiki/Special:File...</td>\n",
       "      <td>./images/Sykes.JPG</td>\n",
       "      <td>[2592, 1944]</td>\n",
       "      <td>DSC-H50</td>\n",
       "      <td>[177.0, 198.0, 191.0]</td>\n",
       "      <td>[23.0, 40.0, 25.0]</td>\n",
       "      <td>[109.0, 161.0, 94.0]</td>\n",
       "      <td>paysage</td>\n",
       "      <td>Grande</td>\n",
       "    </tr>\n",
       "    <tr>\n",
       "      <th>2</th>\n",
       "      <td>Terry</td>\n",
       "      <td>jpg</td>\n",
       "      <td>http://commons.wikimedia.org/wiki/Special:File...</td>\n",
       "      <td>./images/Terry.jpg</td>\n",
       "      <td>[966, 773]</td>\n",
       "      <td>None</td>\n",
       "      <td>[98.0, 98.0, 98.0]</td>\n",
       "      <td>[191.0, 191.0, 190.0]</td>\n",
       "      <td>[23.0, 23.0, 22.0]</td>\n",
       "      <td>paysage</td>\n",
       "      <td>Petite</td>\n",
       "    </tr>\n",
       "    <tr>\n",
       "      <th>3</th>\n",
       "      <td>Tillman</td>\n",
       "      <td>jpg</td>\n",
       "      <td>http://commons.wikimedia.org/wiki/Special:File...</td>\n",
       "      <td>./images/Tillman.jpg</td>\n",
       "      <td>[1529, 2048]</td>\n",
       "      <td>None</td>\n",
       "      <td>[137.0, 99.0, 88.0]</td>\n",
       "      <td>[96.0, 53.0, 45.0]</td>\n",
       "      <td>[196.0, 196.0, 186.0]</td>\n",
       "      <td>portrait</td>\n",
       "      <td>Grande</td>\n",
       "    </tr>\n",
       "    <tr>\n",
       "      <th>4</th>\n",
       "      <td>Titan</td>\n",
       "      <td>jpg</td>\n",
       "      <td>http://commons.wikimedia.org/wiki/Special:File...</td>\n",
       "      <td>./images/Titan.jpg</td>\n",
       "      <td>[320, 250]</td>\n",
       "      <td>None</td>\n",
       "      <td>[177.0, 177.0, 183.0]</td>\n",
       "      <td>[89.0, 76.0, 70.0]</td>\n",
       "      <td>[145.0, 140.0, 134.0]</td>\n",
       "      <td>paysage</td>\n",
       "      <td>Vignette</td>\n",
       "    </tr>\n",
       "  </tbody>\n",
       "</table>\n",
       "</div>"
      ],
      "text/plain": [
       "          label format                                               link  \\\n",
       "0  Sutter Brown    jpg  http://commons.wikimedia.org/wiki/Special:File...   \n",
       "1         Sykes    JPG  http://commons.wikimedia.org/wiki/Special:File...   \n",
       "2         Terry    jpg  http://commons.wikimedia.org/wiki/Special:File...   \n",
       "3       Tillman    jpg  http://commons.wikimedia.org/wiki/Special:File...   \n",
       "4         Titan    jpg  http://commons.wikimedia.org/wiki/Special:File...   \n",
       "\n",
       "                        path    résolution                model  \\\n",
       "0  ./images/Sutter Brown.jpg  [2736, 3648]  Canon PowerShot G12   \n",
       "1         ./images/Sykes.JPG  [2592, 1944]              DSC-H50   \n",
       "2         ./images/Terry.jpg    [966, 773]                 None   \n",
       "3       ./images/Tillman.jpg  [1529, 2048]                 None   \n",
       "4         ./images/Titan.jpg    [320, 250]                 None   \n",
       "\n",
       "                  color1                 color2                 color3  \\\n",
       "0     [86.0, 67.0, 66.0]  [218.0, 212.0, 204.0]  [166.0, 127.0, 106.0]   \n",
       "1  [177.0, 198.0, 191.0]     [23.0, 40.0, 25.0]   [109.0, 161.0, 94.0]   \n",
       "2     [98.0, 98.0, 98.0]  [191.0, 191.0, 190.0]     [23.0, 23.0, 22.0]   \n",
       "3    [137.0, 99.0, 88.0]     [96.0, 53.0, 45.0]  [196.0, 196.0, 186.0]   \n",
       "4  [177.0, 177.0, 183.0]     [89.0, 76.0, 70.0]  [145.0, 140.0, 134.0]   \n",
       "\n",
       "  orientation    taille  \n",
       "0    portrait    Grande  \n",
       "1     paysage    Grande  \n",
       "2     paysage    Petite  \n",
       "3    portrait    Grande  \n",
       "4     paysage  Vignette  "
      ]
     },
     "execution_count": 10,
     "metadata": {},
     "output_type": "execute_result"
    }
   ],
   "source": [
    "pd.read_json(DATA_JSON_PATH)\n"
   ]
  }
 ],
 "metadata": {
  "kernelspec": {
   "display_name": "Python 3",
   "language": "python",
   "name": "python3"
  },
  "language_info": {
   "codemirror_mode": {
    "name": "ipython",
    "version": 3
   },
   "file_extension": ".py",
   "mimetype": "text/x-python",
   "name": "python",
   "nbconvert_exporter": "python",
   "pygments_lexer": "ipython3",
   "version": "3.9.5"
  },
  "orig_nbformat": 4,
  "vscode": {
   "interpreter": {
    "hash": "bed5a9713edd642715f48f9bc24b64ba9674f7867aa716259ffe8e9e225de697"
   }
  }
 },
 "nbformat": 4,
 "nbformat_minor": 2
}
